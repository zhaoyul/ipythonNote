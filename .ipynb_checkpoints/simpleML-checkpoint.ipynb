{
 "cells": [
  {
   "cell_type": "code",
   "execution_count": 68,
   "metadata": {
    "collapsed": false,
    "scrolled": true
   },
   "outputs": [
    {
     "name": "stdout",
     "output_type": "stream",
     "text": [
      "Error:0.517208275438\n",
      "Error:0.0260702596931\n",
      "Error:0.0181554678526\n",
      "Error:0.0147234825688\n",
      "Error:0.0126993147791\n",
      "Error:0.0113272320733\n",
      "Error:0.0103192163347\n",
      "Error:0.00953860309535\n",
      "Error:0.00891115763147\n",
      "Error:0.00839264190064\n",
      "output after training:\n",
      "[[ 0.00966449]\n",
      " [ 0.00786506]\n",
      " [ 0.99358898]\n",
      " [ 0.99211957]]\n",
      "[[ 9.67299303]\n",
      " [-0.2078435 ]\n",
      " [-4.62963669]]\n"
     ]
    }
   ],
   "source": [
    "import numpy as np\n",
    "#sigmoid funciton\n",
    "def sigmoidfunc(x, deriv = False):\n",
    "    if (deriv == True):\n",
    "        return x*(1-x)\n",
    "    return 1/(1 + np.exp(-x))\n",
    "\n",
    "#input dataset\n",
    "x = np.array([[0, 0, 1],\n",
    "              [0, 1, 1],\n",
    "              [1, 0, 1],\n",
    "              [1, 1, 1]])\n",
    "#output dataset\n",
    "y = np.array([[0,0,1,1]]).T\n",
    "\n",
    "#seed random numbers to make calculation deterministic\n",
    "np.random.seed(1)\n",
    "\n",
    "#init weights rnadomly with mean 0\n",
    "weight0 = 2* np.random.random((3, 1)) - 1\n",
    "\n",
    "for iter in xrange(10000):\n",
    "    # forward propagation\n",
    "    layer0 = x\n",
    "    layer1 = sigmoidfunc(np.dot(l0, weight0))\n",
    "    \n",
    "    # cost function\n",
    "    layer1_error = y - layer1\n",
    "    \n",
    "    if (iter% 1000) == 0:\n",
    "        print \"Error:\" + str(np.mean(np.abs(layer1_error)))\n",
    "    \n",
    "    #mmultiply how nuch we missed by the slop of the sigmoid at the values of l1\n",
    "    layer1_delta = layer1_error * sigmoidfunc(layer1, True)\n",
    "    \n",
    "    #update weights\n",
    "    weight0 += np.dot(layer0.T, layer1_delta)\n",
    "    \n",
    "print \"output after training:\"\n",
    "print layer1\n",
    "print weight0"
   ]
  },
  {
   "cell_type": "code",
   "execution_count": 98,
   "metadata": {
    "collapsed": false
   },
   "outputs": [
    {
     "name": "stdout",
     "output_type": "stream",
     "text": [
      "Error:0.517208275438\n",
      "Error:0.0260702596931\n",
      "Error:0.0181554678526\n",
      "Error:0.0147234825688\n",
      "Error:0.0126993147791\n",
      "Error:0.0113272320733\n",
      "Error:0.0103192163347\n",
      "Error:0.00953860309535\n",
      "Error:0.00891115763147\n",
      "Error:0.00839264190064\n",
      "output after training:\n",
      "[[ 0.00966449]\n",
      " [ 0.00786506]\n",
      " [ 0.99358898]\n",
      " [ 0.99211957]]\n",
      "[[ 9.67299303]\n",
      " [-0.2078435 ]\n",
      " [-4.62963669]]\n"
     ]
    },
    {
     "data": {
      "image/png": "[encoded data removed]",
      "text/plain": [
       "<matplotlib.figure.Figure at 0x105bf7710>"
      ]
     },
     "metadata": {},
     "output_type": "display_data"
    }
   ],
   "source": [
    "from matplotlib import pyplot as plt\n",
    "%matplotlib inline\n",
    "import numpy as np\n",
    "\n",
    "errors = []\n",
    "\n",
    "#sigmoid funciton\n",
    "def sigmoidfunc(x, deriv = False):\n",
    "    if (deriv == True):\n",
    "        return x*(1-x)\n",
    "    return 1/(1 + np.exp(-x))\n",
    "\n",
    "#input dataset\n",
    "x = np.array([[0, 0, 1],\n",
    "              [0, 1, 1],\n",
    "              [1, 0, 1],\n",
    "              [1, 1, 1]])\n",
    "#output dataset\n",
    "y = np.array([[0,0,1,1]]).T\n",
    "\n",
    "# x = np.array([[0, 0, 1],\n",
    "#               [1, 1, 1],\n",
    "#               [1, 0, 1],\n",
    "#               [0, 1, 1]])\n",
    "\n",
    "# y = np.array([[0, 0, 1, 1]]).T\n",
    "\n",
    "#seed random numbers to make calculation deterministic\n",
    "np.random.seed(1)\n",
    "\n",
    "#init weights rnadomly with mean 0\n",
    "weight0 = 2* np.random.random((3, 1)) - 1\n",
    "\n",
    "for iter in xrange(10000):\n",
    "    # forward propagation\n",
    "    layer0 = x\n",
    "    layer1 = sigmoidfunc(np.dot(l0, weight0))\n",
    "    \n",
    "    # cost function\n",
    "    layer1_error = y - layer1\n",
    "    \n",
    "    if (iter% 1000) == 0:\n",
    "        errors.append(np.mean(np.abs(layer1_error)))\n",
    "        print \"Error:\" + str(np.mean(np.abs(layer1_error)))\n",
    "    \n",
    "    #mmultiply how nuch we missed by the slop of the sigmoid at the values of l1\n",
    "    layer1_delta = layer1_error * sigmoidfunc(layer1, True)\n",
    "    \n",
    "    #update weights\n",
    "    weight0 += np.dot(layer0.T, layer1_delta)\n",
    "    \n",
    "print \"output after training:\"\n",
    "print layer1\n",
    "print weight0\n",
    "\n",
    "\n",
    "plt.plot(range(10), errors)\n",
    "axes = plt.gca()\n",
    "axes.set_xlim([0,10])\n",
    "axes.set_ylim([0,1])\n",
    "plt.show()"
   ]
  },
  {
   "cell_type": "code",
   "execution_count": 99,
   "metadata": {
    "collapsed": false
   },
   "outputs": [
    {
     "name": "stdout",
     "output_type": "stream",
     "text": [
      "Error:0.496410031903\n",
      "Error:0.00858452565325\n",
      "Error:0.00578945986251\n",
      "Error:0.00462917677677\n",
      "Error:0.00395876528027\n",
      "Error:0.00351012256786\n"
     ]
    }
   ],
   "source": [
    "import numpy as np\n",
    "errors = []\n",
    "\n",
    "def nonlin(x,deriv=False):\n",
    "    if(deriv==True):\n",
    "        return x*(1-x)\n",
    "\n",
    "    return 1/(1+np.exp(-x))\n",
    "    \n",
    "X = np.array([[0,0,1],\n",
    "            [0,1,1],\n",
    "            [1,0,1],\n",
    "            [1,1,1]])\n",
    "                \n",
    "y = np.array([[0],\n",
    "              [1],\n",
    "              [1],\n",
    "              [0]])\n",
    "\n",
    "np.random.seed(1)\n",
    "\n",
    "# randomly initialize our weights with mean 0\n",
    "syn0 = 2*np.random.random((3,4)) - 1\n",
    "syn1 = 2*np.random.random((4,1)) - 1\n",
    "\n",
    "for j in xrange(60000):\n",
    "\n",
    "    # Feed forward through layers 0, 1, and 2\n",
    "    l0 = X\n",
    "    l1 = nonlin(np.dot(l0,syn0))\n",
    "    l2 = nonlin(np.dot(l1,syn1))\n",
    "\n",
    "    # how much did we miss the target value?\n",
    "    l2_error = y - l2\n",
    "    \n",
    "    if (j% 10000) == 0:\n",
    "        print \"Error:\" + str(np.mean(np.abs(l2_error)))\n",
    "        errors.append(np.mean(np.abs(l2_error)))\n",
    "\n",
    "        \n",
    "    # in what direction is the target value?\n",
    "    # were we really sure? if so, don't change too much.\n",
    "    l2_delta = l2_error*nonlin(l2,deriv=True)\n",
    "\n",
    "    # how much did each l1 value contribute to the l2 error (according to the weights)?\n",
    "    l1_error = l2_delta.dot(syn1.T)\n",
    "    \n",
    "    # in what direction is the target l1?\n",
    "    # were we really sure? if so, don't change too much.\n",
    "    l1_delta = l1_error * nonlin(l1,deriv=True)\n",
    "\n",
    "    syn1 += l1.T.dot(l2_delta)\n",
    "    syn0 += l0.T.dot(l1_delta)\n"
   ]
  },
  {
   "cell_type": "code",
   "execution_count": null,
   "metadata": {
    "collapsed": true
   },
   "outputs": [],
   "source": []
  },
  {
   "cell_type": "code",
   "execution_count": null,
   "metadata": {
    "collapsed": true
   },
   "outputs": [],
   "source": []
  },
  {
   "cell_type": "code",
   "execution_count": null,
   "metadata": {
    "collapsed": true
   },
   "outputs": [],
   "source": []
  },
  {
   "cell_type": "code",
   "execution_count": null,
   "metadata": {
    "collapsed": true
   },
   "outputs": [],
   "source": []
  },
  {
   "cell_type": "code",
   "execution_count": null,
   "metadata": {
    "collapsed": true
   },
   "outputs": [],
   "source": []
  },
  {
   "cell_type": "code",
   "execution_count": 53,
   "metadata": {
    "collapsed": true
   },
   "outputs": [],
   "source": [
    "np.dot?"
   ]
  }
 ],
 "metadata": {
  "kernelspec": {
   "display_name": "Python 2",
   "language": "python",
   "name": "python2"
  },
  "language_info": {
   "codemirror_mode": {
    "name": "ipython",
    "version": 2
   },
   "file_extension": ".py",
   "mimetype": "text/x-python",
   "name": "python",
   "nbconvert_exporter": "python",
   "pygments_lexer": "ipython2",
   "version": "2.7.8"
  }
 },
 "nbformat": 4,
 "nbformat_minor": 0
}
