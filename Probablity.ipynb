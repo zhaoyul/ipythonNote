{
 "cells": [
  {
   "cell_type": "markdown",
   "metadata": {},
   "source": [
    "# 基本概率问题"
   ]
  },
  {
   "cell_type": "code",
   "execution_count": 7,
   "metadata": {
    "collapsed": false,
    "slideshow": {
     "slide_type": "-"
    }
   },
   "outputs": [],
   "source": [
    "from fractions import Fraction\n",
    "\n",
    "def P(event, space):\n",
    "    \"The Probality of an event, given a sample space\"\n",
    "    return Fraction(len(event & space), len(space))"
   ]
  },
  {
   "cell_type": "code",
   "execution_count": 8,
   "metadata": {
    "collapsed": false
   },
   "outputs": [
    {
     "data": {
      "text/plain": [
       "Fraction(1, 2)"
      ]
     },
     "execution_count": 8,
     "metadata": {},
     "output_type": "execute_result"
    }
   ],
   "source": [
    "D = {1, 2, 3, 4, 5, 6}\n",
    "even = {2, 4, 6}\n",
    "P(even, D)"
   ]
  },
  {
   "cell_type": "markdown",
   "metadata": {},
   "source": [
    "> 一个罐子里放着23个球，8个白色的，6个蓝色的，9个红色的。 我们从中\n",
    "> 随机取出6个，那么发生如下的结果的概率是多大？\n",
    "> * 都是红色\n",
    "> * 3个蓝色，2个白色，1个红色\n",
    "> * 有4个是白球"
   ]
  },
  {
   "cell_type": "code",
   "execution_count": 9,
   "metadata": {
    "collapsed": false
   },
   "outputs": [
    {
     "data": {
      "text/plain": [
       "{'B1',\n",
       " 'B2',\n",
       " 'B3',\n",
       " 'B4',\n",
       " 'B5',\n",
       " 'B6',\n",
       " 'R1',\n",
       " 'R2',\n",
       " 'R3',\n",
       " 'R4',\n",
       " 'R5',\n",
       " 'R6',\n",
       " 'R7',\n",
       " 'R8',\n",
       " 'R9',\n",
       " 'W1',\n",
       " 'W2',\n",
       " 'W3',\n",
       " 'W4',\n",
       " 'W5',\n",
       " 'W6',\n",
       " 'W7',\n",
       " 'W8'}"
      ]
     },
     "execution_count": 9,
     "metadata": {},
     "output_type": "execute_result"
    }
   ],
   "source": [
    "def cross(A, B):\n",
    "    return {a + b\n",
    "           for a in A for b in B}\n",
    "urn = cross('W', '12345678') | cross('B', '123456') | cross('R', '123456789')\n",
    "urn"
   ]
  },
  {
   "cell_type": "code",
   "execution_count": 10,
   "metadata": {
    "collapsed": false
   },
   "outputs": [
    {
     "data": {
      "text/plain": [
       "23"
      ]
     },
     "execution_count": 10,
     "metadata": {},
     "output_type": "execute_result"
    }
   ],
   "source": [
    "len(urn)"
   ]
  },
  {
   "cell_type": "code",
   "execution_count": 11,
   "metadata": {
    "collapsed": false
   },
   "outputs": [
    {
     "data": {
      "text/plain": [
       "100947"
      ]
     },
     "execution_count": 11,
     "metadata": {},
     "output_type": "execute_result"
    }
   ],
   "source": [
    "import itertools\n",
    "\n",
    "def combos(items, n):\n",
    "    return {' '.join(combo)\n",
    "           for combo in itertools.combinations(items, n)}\n",
    "U6 = combos(urn, 6)\n",
    "len(U6)"
   ]
  },
  {
   "cell_type": "code",
   "execution_count": 12,
   "metadata": {
    "collapsed": false
   },
   "outputs": [
    {
     "data": {
      "text/plain": [
       "['R2 R9 B4 B5 W1 W8',\n",
       " 'B2 B4 W7 W6 B3 W8',\n",
       " 'R6 R2 R3 W7 W6 W3',\n",
       " 'R6 B4 W5 B1 B3 W8',\n",
       " 'R4 R2 R3 W2 B4 W8',\n",
       " 'R4 W2 B6 W6 W5 W8',\n",
       " 'R4 R7 B4 R1 W6 W3',\n",
       " 'R4 R6 R3 B5 W3 W8',\n",
       " 'R5 R2 R3 R8 R9 W2',\n",
       " 'R4 R6 B2 R2 B4 B1']"
      ]
     },
     "execution_count": 12,
     "metadata": {},
     "output_type": "execute_result"
    }
   ],
   "source": [
    "import random\n",
    "\n",
    "random.sample(U6, 10)"
   ]
  },
  {
   "cell_type": "code",
   "execution_count": 13,
   "metadata": {
    "collapsed": false
   },
   "outputs": [
    {
     "data": {
      "text/latex": [
       "\n",
       "$\n",
       "\\begin{equation} \n",
       "23\\ choose\\ 6 = \\frac {23 * 22 * 21 * 20 * 19 *18} {6!} \\\\\n",
       "n\\ choose\\ c = \\frac {n!} {(n-c)!*c!}\n",
       "\\end{equation}\n",
       "$"
      ],
      "text/plain": [
       "<IPython.core.display.Latex object>"
      ]
     },
     "metadata": {},
     "output_type": "display_data"
    }
   ],
   "source": [
    "%%latex\n",
    "\n",
    "$\n",
    "\\begin{equation} \n",
    "23\\ choose\\ 6 = \\frac {23 * 22 * 21 * 20 * 19 *18} {6!} \\\\\n",
    "n\\ choose\\ c = \\frac {n!} {(n-c)!*c!}\n",
    "\\end{equation}\n",
    "$"
   ]
  },
  {
   "cell_type": "code",
   "execution_count": 14,
   "metadata": {
    "collapsed": true
   },
   "outputs": [],
   "source": [
    "from math import factorial\n",
    "\n",
    "def choose(n, c):\n",
    "    return factorial(n) // (factorial(n - c) * factorial(c))"
   ]
  },
  {
   "cell_type": "markdown",
   "metadata": {},
   "source": [
    "## 问题1: 所有6个都是红球的概率"
   ]
  },
  {
   "cell_type": "code",
   "execution_count": 15,
   "metadata": {
    "collapsed": false
   },
   "outputs": [
    {
     "data": {
      "text/plain": [
       "Fraction(4, 4807)"
      ]
     },
     "execution_count": 15,
     "metadata": {},
     "output_type": "execute_result"
    }
   ],
   "source": [
    "red6 = {s for s in U6 if s.count('R') == 6}\n",
    "P(red6, U6)"
   ]
  },
  {
   "cell_type": "markdown",
   "metadata": {},
   "source": [
    "### 有多少种拿到6个红球的方法"
   ]
  },
  {
   "cell_type": "code",
   "execution_count": 16,
   "metadata": {
    "collapsed": false
   },
   "outputs": [
    {
     "data": {
      "text/plain": [
       "84"
      ]
     },
     "execution_count": 16,
     "metadata": {},
     "output_type": "execute_result"
    }
   ],
   "source": [
    "len(red6)"
   ]
  },
  {
   "cell_type": "markdown",
   "metadata": {},
   "source": [
    "#### 为什么只有84种方法，我们知道有9个红球，从9个红球种拿到6个的方法是："
   ]
  },
  {
   "cell_type": "code",
   "execution_count": 17,
   "metadata": {
    "collapsed": false
   },
   "outputs": [
    {
     "data": {
      "text/plain": [
       "84"
      ]
     },
     "execution_count": 17,
     "metadata": {},
     "output_type": "execute_result"
    }
   ],
   "source": [
    "choose(9, 6)"
   ]
  },
  {
   "cell_type": "markdown",
   "metadata": {},
   "source": [
    "## 问题2: 3蓝2白1红的概率"
   ]
  },
  {
   "cell_type": "code",
   "execution_count": 18,
   "metadata": {
    "collapsed": false
   },
   "outputs": [
    {
     "data": {
      "text/plain": [
       "Fraction(240, 4807)"
      ]
     },
     "execution_count": 18,
     "metadata": {},
     "output_type": "execute_result"
    }
   ],
   "source": [
    "b3w2r1 = {s for s in U6 if s.count(\"B\") == 3 and\n",
    "                           s.count(\"W\") == 2 and\n",
    "                           s.count(\"R\") == 1}\n",
    "P(b3w2r1, U6)"
   ]
  },
  {
   "cell_type": "markdown",
   "metadata": {},
   "source": [
    "#### is the same as:"
   ]
  },
  {
   "cell_type": "code",
   "execution_count": 19,
   "metadata": {
    "collapsed": false
   },
   "outputs": [
    {
     "data": {
      "text/plain": [
       "True"
      ]
     },
     "execution_count": 19,
     "metadata": {},
     "output_type": "execute_result"
    }
   ],
   "source": [
    "P(b3w2r1, U6) == Fraction(choose(6, 3) * choose(8, 2) * choose(9, 1), len(U6))"
   ]
  },
  {
   "cell_type": "markdown",
   "metadata": {},
   "source": [
    "## 问题3:4个白球的概率"
   ]
  },
  {
   "cell_type": "code",
   "execution_count": 20,
   "metadata": {
    "collapsed": false
   },
   "outputs": [
    {
     "data": {
      "text/plain": [
       "Fraction(350, 4807)"
      ]
     },
     "execution_count": 20,
     "metadata": {},
     "output_type": "execute_result"
    }
   ],
   "source": [
    "w4 = { s for s in U6 if s.count('W') == 4}\n",
    "P(w4, U6)"
   ]
  },
  {
   "cell_type": "code",
   "execution_count": 21,
   "metadata": {
    "collapsed": false
   },
   "outputs": [
    {
     "data": {
      "text/plain": [
       "True"
      ]
     },
     "execution_count": 21,
     "metadata": {},
     "output_type": "execute_result"
    }
   ],
   "source": [
    "P(w4, U6) == Fraction(choose(8, 4) * choose(15, 2),\n",
    "                      len(U6))"
   ]
  },
  {
   "cell_type": "code",
   "execution_count": 30,
   "metadata": {
    "collapsed": true
   },
   "outputs": [],
   "source": [
    "def P(event, space): \n",
    "    if is_predicate(event):\n",
    "        event = such_that(event, space)\n",
    "    return Fraction(len(event & space), len(space))\n",
    "\n",
    "is_predicate = callable\n",
    "\n",
    "def such_that(predicate, collection): \n",
    "    return {e for e in collection if predicate(e)}"
   ]
  },
  {
   "cell_type": "markdown",
   "metadata": {
    "collapsed": true
   },
   "source": [
    "# 纸牌概率"
   ]
  },
  {
   "cell_type": "code",
   "execution_count": 22,
   "metadata": {
    "collapsed": false
   },
   "outputs": [
    {
     "data": {
      "text/plain": [
       "52"
      ]
     },
     "execution_count": 22,
     "metadata": {},
     "output_type": "execute_result"
    }
   ],
   "source": [
    "suits = \"SHDC\"\n",
    "ranks = \"A23456789TJQK\"\n",
    "deck = cross(ranks, suits)\n",
    "len(deck)"
   ]
  },
  {
   "cell_type": "code",
   "execution_count": 27,
   "metadata": {
    "collapsed": false
   },
   "outputs": [
    {
     "data": {
      "text/plain": [
       "['5S 9H TD 6C 8S',\n",
       " 'JH 7D 7H 2S AH',\n",
       " '9C 2S 2H 8H 6D',\n",
       " '9D 7S 9S AC QD',\n",
       " '9C TD 8C 8D QC']"
      ]
     },
     "execution_count": 27,
     "metadata": {},
     "output_type": "execute_result"
    }
   ],
   "source": [
    "Hands = combos(deck, 5)\n",
    "assert len(Hands) == choose(52, 5)\n",
    "random.sample(Hands, 5)"
   ]
  },
  {
   "cell_type": "markdown",
   "metadata": {},
   "source": [
    "## 抽5张牌抽到同花的概率有多大？"
   ]
  },
  {
   "cell_type": "code",
   "execution_count": 32,
   "metadata": {
    "collapsed": false
   },
   "outputs": [
    {
     "data": {
      "text/plain": [
       "Fraction(33, 16660)"
      ]
     },
     "execution_count": 32,
     "metadata": {},
     "output_type": "execute_result"
    }
   ],
   "source": [
    "def flush(hands):\n",
    "    return any(hands.count(suit) == 5 for suit in suits) \n",
    "P(flush, Hands)"
   ]
  },
  {
   "cell_type": "code",
   "execution_count": 35,
   "metadata": {
    "collapsed": true
   },
   "outputs": [],
   "source": [
    "## 抽到4张一样种类的牌的概率有多大？"
   ]
  },
  {
   "cell_type": "code",
   "execution_count": 38,
   "metadata": {
    "collapsed": false
   },
   "outputs": [
    {
     "data": {
      "text/plain": [
       "Fraction(1, 4165)"
      ]
     },
     "execution_count": 38,
     "metadata": {},
     "output_type": "execute_result"
    }
   ],
   "source": [
    "def four_kind(hand):\n",
    "    return any(hand.count(rank) == 4 for rank in ranks)\n",
    "P(four_kind, Hands)"
   ]
  },
  {
   "cell_type": "markdown",
   "metadata": {},
   "source": [
    "# 不平均结果分布\n",
    "\n",
    "在此之前咱们探讨的概率问题的可能结果的概率都是一样的。但是在真实的概率问题上，很多时候结果概率是不均等的，比如说生男孩女孩的概率不是精确的50%, 而且第二个孩子和第一个孩子男女的概率也不一样. 比如丹麦的统计结果是这样的：\n",
    ">  GG: 121801    GB: 126840\n",
    ">  BG: 127123    BB: 135138\n",
    "\n",
    "我们会引入三个新的定义：\n",
    "\n",
    "* Frequency: 用来描述不同的结果发生的可能性. 可以是一个计数：23423， 也可能是一个比率：0.512\n",
    "* Distribution: 在一个样本空间，结果和frequency的对应关系\n",
    "* probability distribution: frequency正规化（加合为1）后的分布."
   ]
  },
  {
   "cell_type": "code",
   "execution_count": 91,
   "metadata": {
    "collapsed": true
   },
   "outputs": [],
   "source": [
    "from __future__ import division\n",
    "class ProbDist(dict):\n",
    "    def __init__(self, mapping=(), **kwargs):\n",
    "        self.update(mapping, **kwargs)\n",
    "        # Make probabilities sum to 1.0; assert no negative probabilities\n",
    "        total = sum(self.values())\n",
    "        for outcome in self:\n",
    "            self[outcome] = self[outcome] / total\n",
    "            assert self[outcome] >= 0"
   ]
  },
  {
   "cell_type": "code",
   "execution_count": 84,
   "metadata": {
    "collapsed": true
   },
   "outputs": [],
   "source": [
    "def P(event, space): \n",
    "    if is_predicate(event):\n",
    "        print 'is predicate'\n",
    "        event = such_that(event, space)\n",
    "    if isinstance(space, ProbDist):\n",
    "        return sum(space[o] for o in space if o in event)\n",
    "    else:\n",
    "        return Fraction(len(event & space), len(space))\n",
    "    \n",
    "def such_that(predicate, space): \n",
    "    if isinstance(space, ProbDist):\n",
    "        return ProbDist({o:space[o] for o in space if predicate(o)})\n",
    "    else:\n",
    "        return {o for o in space if predicate(o)}"
   ]
  },
  {
   "cell_type": "markdown",
   "metadata": {},
   "source": [
    "## 丹麦两孩家庭的分布情况"
   ]
  },
  {
   "cell_type": "code",
   "execution_count": 85,
   "metadata": {
    "collapsed": false
   },
   "outputs": [
    {
     "data": {
      "text/plain": [
       "{'BB': 0.2645086533229465,\n",
       " 'BG': 0.24882071317004043,\n",
       " 'GB': 0.24826679089140383,\n",
       " 'GG': 0.23840384261560926}"
      ]
     },
     "execution_count": 85,
     "metadata": {},
     "output_type": "execute_result"
    }
   ],
   "source": [
    "DK = ProbDist(GG=121801.0, GB=126840.0,\n",
    "              BG=127123.0, BB=135138.0)\n",
    "DK"
   ]
  },
  {
   "cell_type": "code",
   "execution_count": 86,
   "metadata": {
    "collapsed": true
   },
   "outputs": [],
   "source": [
    "def first_girl(outcome):  return outcome[0] == 'G'\n",
    "def first_boy(outcome):   return outcome[0] == 'B'\n",
    "def second_girl(outcome): return outcome[1] == 'G'\n",
    "def second_boy(outcome):  return outcome[1] == 'B'\n",
    "def two_girls(outcome):   return outcome    == 'GG'"
   ]
  },
  {
   "cell_type": "code",
   "execution_count": 88,
   "metadata": {
    "collapsed": false
   },
   "outputs": [
    {
     "name": "stdout",
     "output_type": "stream",
     "text": [
      "is predicate\n"
     ]
    },
    {
     "data": {
      "text/plain": [
       "0.4866706335070131"
      ]
     },
     "execution_count": 88,
     "metadata": {},
     "output_type": "execute_result"
    }
   ],
   "source": [
    "P(first_girl, DK)"
   ]
  },
  {
   "cell_type": "markdown",
   "metadata": {},
   "source": [
    "# 贝叶斯定理和巧克力豆\n",
    "> m&n巧克力豆是美国的知名品牌，ET都喜欢吃，蓝色豆子是1995年引入的，以前只有(30% 棕色, 20% 黄色, 20% 红色, 10% 绿色, 10% 橙色, 10% 黄棕色). 加入蓝色豆子以后(24% 蓝色 , 20% 绿色, 16% 橙色, 14% 黄色, 13% 红色,  13% 棕色)。\n",
    "> 假如说我有个朋友，他有两袋子M&M，一代产自1994年，一袋来自1996年。她不告诉我哪个是哪个，她从每个袋子里都拿出一个豆子，一个是黄色的，另一个是绿色的. 那么：黄色的M&M豆子来自1994年的袋子的概率有多大？\n",
    "\n",
    "我们先定义概率分布\n"
   ]
  },
  {
   "cell_type": "code",
   "execution_count": 92,
   "metadata": {
    "collapsed": true
   },
   "outputs": [],
   "source": [
    "bag94 = ProbDist(brown=30, yellow=20, red=20, green=10, orange=10, tan=10)\n",
    "bag96 = ProbDist(blue=24, green=20, orange=16, yellow=14, red=13, brown=13)"
   ]
  },
  {
   "cell_type": "code",
   "execution_count": 95,
   "metadata": {
    "collapsed": false
   },
   "outputs": [
    {
     "data": {
      "text/plain": [
       "{'blue': 0.24,\n",
       " 'brown': 0.13,\n",
       " 'green': 0.2,\n",
       " 'orange': 0.16,\n",
       " 'red': 0.13,\n",
       " 'yellow': 0.14}"
      ]
     },
     "execution_count": 95,
     "metadata": {},
     "output_type": "execute_result"
    }
   ],
   "source": [
    "bag94\n",
    "bag96"
   ]
  },
  {
   "cell_type": "code",
   "execution_count": 96,
   "metadata": {
    "collapsed": true
   },
   "outputs": [],
   "source": [
    "def joint(A, B, sep=\" \"):\n",
    "    return ProbDist({a + sep + b : A[a] * B[b] \n",
    "                    for a in A\n",
    "                    for b in B})"
   ]
  },
  {
   "cell_type": "code",
   "execution_count": 98,
   "metadata": {
    "collapsed": false
   },
   "outputs": [
    {
     "data": {
      "text/plain": [
       "{'brownblue': 0.07199999999999997,\n",
       " 'brownbrown': 0.038999999999999986,\n",
       " 'browngreen': 0.05999999999999997,\n",
       " 'brownorange': 0.04799999999999998,\n",
       " 'brownred': 0.038999999999999986,\n",
       " 'brownyellow': 0.04199999999999998,\n",
       " 'greenblue': 0.02399999999999999,\n",
       " 'greenbrown': 0.012999999999999996,\n",
       " 'greengreen': 0.019999999999999993,\n",
       " 'greenorange': 0.015999999999999993,\n",
       " 'greenred': 0.012999999999999996,\n",
       " 'greenyellow': 0.013999999999999995,\n",
       " 'orangeblue': 0.02399999999999999,\n",
       " 'orangebrown': 0.012999999999999996,\n",
       " 'orangegreen': 0.019999999999999993,\n",
       " 'orangeorange': 0.015999999999999993,\n",
       " 'orangered': 0.012999999999999996,\n",
       " 'orangeyellow': 0.013999999999999995,\n",
       " 'redblue': 0.04799999999999998,\n",
       " 'redbrown': 0.025999999999999992,\n",
       " 'redgreen': 0.03999999999999999,\n",
       " 'redorange': 0.03199999999999999,\n",
       " 'redred': 0.025999999999999992,\n",
       " 'redyellow': 0.02799999999999999,\n",
       " 'tanblue': 0.02399999999999999,\n",
       " 'tanbrown': 0.012999999999999996,\n",
       " 'tangreen': 0.019999999999999993,\n",
       " 'tanorange': 0.015999999999999993,\n",
       " 'tanred': 0.012999999999999996,\n",
       " 'tanyellow': 0.013999999999999995,\n",
       " 'yellowblue': 0.04799999999999998,\n",
       " 'yellowbrown': 0.025999999999999992,\n",
       " 'yellowgreen': 0.03999999999999999,\n",
       " 'yelloworange': 0.03199999999999999,\n",
       " 'yellowred': 0.025999999999999992,\n",
       " 'yellowyellow': 0.02799999999999999}"
      ]
     },
     "execution_count": 98,
     "metadata": {},
     "output_type": "execute_result"
    }
   ],
   "source": [
    "MM = joint(bag94, bag96, '')\n",
    "MM"
   ]
  },
  {
   "cell_type": "code",
   "execution_count": 101,
   "metadata": {
    "collapsed": false
   },
   "outputs": [
    {
     "data": {
      "text/plain": [
       "{'greenyellow': 0.25925925925925924, 'yellowgreen': 0.7407407407407408}"
      ]
     },
     "execution_count": 101,
     "metadata": {},
     "output_type": "execute_result"
    }
   ],
   "source": [
    "def yellow_and_green(outcome): \n",
    "    return 'yellow' in outcome and 'green' in outcome\n",
    "\n",
    "such_that(yellow_and_green, MM)"
   ]
  },
  {
   "cell_type": "markdown",
   "metadata": {},
   "source": [
    "# 使用贝叶斯定律来解决这个问题\n",
    "\n",
    "先定义几个事件：\n",
    "A: 第一个来自94年的袋子，第二个来自96年的袋子\n",
    "B: 第一个来自96年的袋子，第二个来自94年的袋子\n",
    "\n",
    "我们先假设两者的概率都是0.5：P(A) = P(B) = 0.5\n",
    "\n",
    "证据：E：第一个豆子是黄色的，第二个是绿色的\n",
    "\n",
    "我们想知道事件A在此证据成立情况下的概率：P(A|E)\n",
    "\n",
    "```\n",
    "P(A|E) = P(E|A) * P(A) / P(E)\n",
    "\n",
    "P(E|A) = 0.2 * 0.2 = 0.04\n",
    "P(E|B) = 0.1 * 0.14 = 0.014\n",
    "P(E)   = P(E|A) * P(A) + P(E|B) * P(B)\n",
    "       = 0.04   * 0.5  + 0.014  * 0.5 \n",
    "       = 0.027\n",
    "\n",
    "P(A | E) = P(E | A) * P(A) / P(E) \n",
    "         = 0.04     * 0.5  / 0.027 \n",
    "         = 0.7407407407\n",
    "         \n",
    "```\n"
   ]
  },
  {
   "cell_type": "markdown",
   "metadata": {},
   "source": [
    "# 大富翁游戏\n",
    "    规则我还没有搞清楚，先看看代码吧"
   ]
  },
  {
   "cell_type": "code",
   "execution_count": 111,
   "metadata": {
    "collapsed": false
   },
   "outputs": [],
   "source": [
    "from collections import Counter, deque\n",
    "import random\n",
    "\n",
    "board = \"\"\"GO    A1 CC1 A2  T1 R1 B1  CH1 B2 B3\n",
    "           JAIL  C1 U1  C2  C3 R2 D1  CC2 D2 D3\n",
    "           FP    E1 CH2 E2  E3 R3 F1  F2  U2 F3\n",
    "           G2J   G1 G2  CC3 G3 R4 CH3 H1  T2 H2\n",
    "\n",
    "        \"\"\".split()\n",
    "def monoploy(steps):\n",
    "    global here\n",
    "    here = 0\n",
    "    CC_deck = Deck('GO JAIL' + 14 * ' ?')\n",
    "    CH_deck = Deck('GO JAIL C1 E3 H2 R1 R R U -3' + 6 * ' ?')\n",
    "    doubles = 0\n",
    "    jail = board.index('JAIL')\n",
    "    for _ in range(steps):\n",
    "        d1, d2 = random.randint(1, 6), random.randint(1, 6)\n",
    "        goto(here + d1 + d2)\n",
    "        doubles = (doubles + 1) if (d1 == d2) else 0\n",
    "        if doubles == 3 or board[here] == 'G2J':\n",
    "            goto(jail)\n",
    "        elif board[here].startswith('CC'):\n",
    "            do_card(CC_deck)\n",
    "        elif board[here].startswith('CH'):\n",
    "            do_card(CH_deck)\n",
    "        yield here\n",
    "        \n",
    "def goto(square):\n",
    "    global here\n",
    "    here = square % len(board)\n",
    "\n",
    "def Deck(names):\n",
    "    cards = names.split()\n",
    "    random.shuffle(cards)\n",
    "    return deque(cards)\n",
    "\n",
    "def do_card(deck):\n",
    "    global here\n",
    "    card = deck[0]\n",
    "    deck.rotate(-1)\n",
    "    if card == 'R' or card == 'U':\n",
    "        while not board[here].startswith(card):\n",
    "            goto(here + 1)\n",
    "    elif card == '-3':\n",
    "        goto(here - 3)\n",
    "    elif card != '?':\n",
    "        goto(board.index(card))"
   ]
  },
  {
   "cell_type": "code",
   "execution_count": 112,
   "metadata": {
    "collapsed": false
   },
   "outputs": [],
   "source": [
    "results = list(monoploy(400000))"
   ]
  },
  {
   "cell_type": "code",
   "execution_count": 114,
   "metadata": {
    "collapsed": false
   },
   "outputs": [
    {
     "data": {
      "text/plain": [
       "[<matplotlib.lines.Line2D at 0x1293b6dd0>]"
      ]
     },
     "execution_count": 114,
     "metadata": {},
     "output_type": "execute_result"
    },
    {
     "data": {
      "image/png": "[encoded data removed]",
      "text/plain": [
       "<matplotlib.figure.Figure at 0x129396a10>"
      ]
     },
     "metadata": {},
     "output_type": "display_data"
    }
   ],
   "source": [
    "%matplotlib inline\n",
    "import matplotlib.pyplot as plt\n",
    "\n",
    "plt.hist(results, bins=40)\n",
    "avg = len(results)/40\n",
    "plt.plot([0, 39], [avg, avg], 'r--')"
   ]
  }
 ],
 "metadata": {
  "kernelspec": {
   "display_name": "Python 2",
   "language": "python",
   "name": "python2"
  },
  "language_info": {
   "codemirror_mode": {
    "name": "ipython",
    "version": 2
   },
   "file_extension": ".py",
   "mimetype": "text/x-python",
   "name": "python",
   "nbconvert_exporter": "python",
   "pygments_lexer": "ipython2",
   "version": "2.7.8"
  }
 },
 "nbformat": 4,
 "nbformat_minor": 0
}
