{
 "cells": [
  {
   "cell_type": "code",
   "execution_count": 17,
   "metadata": {
    "collapsed": false
   },
   "outputs": [],
   "source": [
    "from PIL import Image, ImageChops\n",
    "\n",
    "def diff_images():\n",
    "    imgF = Image.open('people.JPG').convert('1').resize((256,256))\n",
    "    imgB = Image.open('bg.JPG').convert('1').resize((256,256))\n",
    "    \n",
    "    diff1 = ImageChops.subtract(imgF, imgB)\n",
    "    diff2 = ImageChops.subtract(imgB, imgF)\n",
    "    diff1.show()\n",
    "    diff2.show()\n",
    "\n",
    "    \n",
    "    \n",
    "diff_images()"
   ]
  },
  {
   "cell_type": "code",
   "execution_count": 19,
   "metadata": {
    "collapsed": true
   },
   "outputs": [],
   "source": [
    "from PIL import Image\n",
    "from PIL import ImageChops\n",
    "image1 = Image.open(\"people.jpg\").resize((256,256)) # no cats\n",
    "image2 = Image.open(\"bg.jpg\").resize((256,256)) # with cats\n",
    "\n",
    "image = ImageChops.subtract(image2, image1)\n",
    "\n",
    "mask1 = Image.eval(image, lambda a: 0 if a <= 24 else 255)\n",
    "mask2 = mask1.convert('1')\n",
    "\n",
    "blank = Image.eval(image, lambda a: 0)\n",
    "\n",
    "new = Image.composite(image2, blank, mask2) \n",
    "new.show()"
   ]
  },
  {
   "cell_type": "code",
   "execution_count": 9,
   "metadata": {
    "collapsed": false
   },
   "outputs": [
    {
     "name": "stdout",
     "output_type": "stream",
     "text": [
      "Bayesian.ipynb   Untitled1.ipynb  diff.png         simpleML.ipynb\r\n",
      "Probablity.ipynb bezier.ipynb     life.ipynb       tutorials.html\r\n",
      "Untitled.ipynb   bg.JPG           people.JPG       tutorials.ipynb\r\n"
     ]
    }
   ],
   "source": [
    "!ls"
   ]
  }
 ],
 "metadata": {
  "kernelspec": {
   "display_name": "Python 2",
   "language": "python",
   "name": "python2"
  },
  "language_info": {
   "codemirror_mode": {
    "name": "ipython",
    "version": 2
   },
   "file_extension": ".py",
   "mimetype": "text/x-python",
   "name": "python",
   "nbconvert_exporter": "python",
   "pygments_lexer": "ipython2",
   "version": "2.7.8"
  }
 },
 "nbformat": 4,
 "nbformat_minor": 0
}
