{
 "cells": [
  {
   "cell_type": "code",
   "execution_count": 3,
   "metadata": {
    "collapsed": false
   },
   "outputs": [
    {
     "name": "stdout",
     "output_type": "stream",
     "text": [
      "Populating the interactive namespace from numpy and matplotlib\n"
     ]
    },
    {
     "name": "stderr",
     "output_type": "stream",
     "text": [
      "WARNING: pylab import has clobbered these variables: ['diff']\n",
      "`%matplotlib` prevents importing * from pylab and numpy\n"
     ]
    }
   ],
   "source": [
    "%pylab inline\n",
    "#%load_ext sympy.interactive.ipythonprinting\n",
    "from sympy import init_printing"
   ]
  },
  {
   "cell_type": "code",
   "execution_count": 4,
   "metadata": {
    "collapsed": false
   },
   "outputs": [
    {
     "data": {
      "image/png": "[encoded data removed]",
      "text/plain": [
       "<matplotlib.figure.Figure at 0x1080057d0>"
      ]
     },
     "metadata": {},
     "output_type": "display_data"
    }
   ],
   "source": [
    "def numerical_cubic_bezier_fn(control_pts, t):\n",
    "    \"\"\" \n",
    "    Numerically calculate an x,y point for the bezier curve at position t. \n",
    "\n",
    "    Parameters: control_pts -- list of 4 (x,y) control points\n",
    "                t -- 'time' value should be between 0 and 1\n",
    "\n",
    "    Return: (xpt, ypt) -- tuple of x,y data on the curve\n",
    "    \"\"\"\n",
    "    check = ((0 <= t) and (t <= 1))\n",
    "    assert check\n",
    "    # define the actual cubic bezier equation here\n",
    "    fn = lambda c,t : c[0]*(1 - t)**3 + c[1]*3*t*(1 - t)**2 + c[2]*3*t**2*(1 - t) + c[3]*t**3\n",
    "    xs = [x for x,y in control_pts]\n",
    "    ys = [y for x,y in control_pts]\n",
    "    # now calculate the x,y position from the bezier equation\n",
    "    xpt = fn(xs, t)\n",
    "    ypt = fn(ys, t)\n",
    "    return xpt, ypt\n",
    "\n",
    "# just to make sure that I understand, lets create a list of numbers for a specific bezier curve\n",
    "# arbitrarily define my 4 control points here\n",
    "p0 = (0.7,0.2); p1 = (2.3,1.0); p2 = (7.2,0.8); p3 = (10.0,0.0)\n",
    "# create a list of 1000 x,y points that traces over the length of this curve\n",
    "points = [numerical_cubic_bezier_fn(control_pts=[p0,p1,p2,p3], t=t) for t in arange(0.0,1.0,1./1000)]\n",
    "# separate the x's and y's so matplotlib can plot them\n",
    "xs = [x for x,y in points]\n",
    "ys = [y for x,y in points]\n",
    "\n",
    "# plot the resulting curve and the control points\n",
    "plot(xs, ys, 'b-')\n",
    "hold(True)\n",
    "for pt in [p0,p1,p2,p3]:\n",
    "    plot( pt[0], pt[1], 'ro')\n",
    "hold(False)\n",
    "t=title('example cubic bezier curve')\n",
    "#legend(['curve','control pts'])"
   ]
  },
  {
   "cell_type": "code",
   "execution_count": 1,
   "metadata": {
    "collapsed": false
   },
   "outputs": [
    {
     "name": "stdout",
     "output_type": "stream",
     "text": [
      "The cubic bezier function B(t) is:\n"
     ]
    },
    {
     "data": {
      "text/plain": [
       "B(t_i) == c0*(-t_i + 1)**3 + 3*c1*t_i*(-t_i + 1)**2 + 3*c2*t_i**2*(-t_i + 1) + c3*t_i**3"
      ]
     },
     "execution_count": 1,
     "metadata": {},
     "output_type": "execute_result"
    }
   ],
   "source": [
    "from sympy.printing.mathml import mathml\n",
    "from sympy import Symbol, Matrix, summation, diff, expand, collect, preview, Sum, latex, Eq, factor\n",
    "\n",
    "t = Symbol('t_i')\n",
    "c0, c1, c2, c3 = [Symbol(name) for name in ['c0','c1','c2','c3']]\n",
    "\n",
    "# the equation for a cubic bezier path b(t) over t in [0,1]\n",
    "# Note: the c control points are (x,y) tuples, but we're going to compute\n",
    "# the resulting x and y values independantly. x and y are independant of\n",
    "# each other, but both are dependant on t which goes from 0 to 1\n",
    "symbolic_cubic_bezier_fn = c0*(1 - t)**3 + c1*3*t*(1 - t)**2 + c2*3*t**2*(1 - t) + c3*t**3\n",
    "print 'The cubic bezier function B(t) is:'\n",
    "B = Symbol('B(t_i)')\n",
    "Eq(B, symbolic_cubic_bezier_fn)"
   ]
  },
  {
   "cell_type": "code",
   "execution_count": null,
   "metadata": {
    "collapsed": true
   },
   "outputs": [],
   "source": []
  }
 ],
 "metadata": {
  "kernelspec": {
   "display_name": "Python 2",
   "language": "python",
   "name": "python2"
  },
  "language_info": {
   "codemirror_mode": {
    "name": "ipython",
    "version": 2
   },
   "file_extension": ".py",
   "mimetype": "text/x-python",
   "name": "python",
   "nbconvert_exporter": "python",
   "pygments_lexer": "ipython2",
   "version": "2.7.8"
  }
 },
 "nbformat": 4,
 "nbformat_minor": 0
}
