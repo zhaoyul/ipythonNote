{
 "cells": [
  {
   "cell_type": "code",
   "execution_count": 45,
   "metadata": {
    "collapsed": false
   },
   "outputs": [
    {
     "name": "stdout",
     "output_type": "stream",
     "text": [
      "x shape is (200,), y shape is (200,), xtype is <type 'numpy.ndarray'>, ytype is <type 'numpy.ndarray'>\n"
     ]
    },
    {
     "name": "stderr",
     "output_type": "stream",
     "text": [
      "/usr/local/lib/python2.7/site-packages/matplotlib/collections.py:571: FutureWarning: elementwise comparison failed; returning scalar instead, but in the future will perform elementwise comparison\n",
      "  if self._edgecolors == str('face'):\n"
     ]
    },
    {
     "data": {
      "image/png": "[encoded data removed]",
      "text/plain": [
       "<matplotlib.figure.Figure at 0x10a08cd10>"
      ]
     },
     "metadata": {},
     "output_type": "display_data"
    }
   ],
   "source": [
    "%matplotlib inline\n",
    "import numpy as np\n",
    "from matplotlib import pyplot as plt\n",
    "import random\n",
    "\n",
    "import scipy.stats as stats\n",
    "\n",
    "x = np.linspace(1, 200, 200)\n",
    "plt.figure(figsize=(12, 8))\n",
    "'''\n",
    "Highest precedence\n",
    "( )      (anything in brackets is done first)\n",
    "**     (exponentiation)\n",
    "-x, +x\n",
    "*, /, %, //\n",
    "+, -\n",
    "relational operators: <, >, <=, >=, !=, ==\n",
    "logical not\n",
    "logical and\n",
    "logical or\n",
    "Lowest precedence\n",
    "'''\n",
    "\n",
    "def survivalRate(x):\n",
    "    return np.e ** (-0.003*np.e ** ((x-25)/10.0))\n",
    "\n",
    "def thunderRate(x):\n",
    "    y = x.astype(int)\n",
    "    tempArray = []\n",
    "    DEATH_RATE = 1/80.0\n",
    "    for age in y:\n",
    "        years = range(0, age)\n",
    "        rate = [(1 - DEATH_RATE) ** (i - 1) * DEATH_RATE for i in years ]\n",
    "        tempArray.append(reduce(lambda x,y:  x + y, rate))\n",
    "\n",
    "    return np.array(map(lambda x: 1.0 - x, tempArray))\n",
    "\n",
    "\n",
    "realY = survivalRate(x)\n",
    "thunderY = thunderRate(x)\n",
    "print 'x shape is {0}, y shape is {1}, xtype is {2}, ytype is {3}'.format( x.shape,\n",
    "                                                                          thunderY.shape,\n",
    "                                                                         type(x),\n",
    "                                                                         type(thunderY))\n",
    "plt.plot(x, thunderY, '-r', label='thunder')\n",
    "plt.plot(x, realY, '-g', label='real')\n",
    "plt.legend(loc='upper right')\n",
    "plt.xlabel('age')\n",
    "plt.ylabel('death rage')\n",
    "plt.scatter(0.2, 2 * (0.2) / 1.2, s=140, c=\"#348ABD\")\n",
    "\n",
    "\n",
    "plt.show()"
   ]
  },
  {
   "cell_type": "code",
   "execution_count": 84,
   "metadata": {
    "collapsed": false
   },
   "outputs": [
    {
     "data": {
      "text/plain": [
       "0.9999573731305634"
      ]
     },
     "execution_count": 84,
     "metadata": {},
     "output_type": "execute_result"
    }
   ],
   "source": [
    "\n",
    "\n",
    "thunderRate(800)"
   ]
  },
  {
   "cell_type": "code",
   "execution_count": 70,
   "metadata": {
    "collapsed": false
   },
   "outputs": [
    {
     "data": {
      "text/plain": [
       "[1, 2, 3, 4, 5, 6, 7, 8, 9]"
      ]
     },
     "execution_count": 70,
     "metadata": {},
     "output_type": "execute_result"
    }
   ],
   "source": [
    "range(1,10)"
   ]
  }
 ],
 "metadata": {
  "kernelspec": {
   "display_name": "Python 2",
   "language": "python",
   "name": "python2"
  },
  "language_info": {
   "codemirror_mode": {
    "name": "ipython",
    "version": 2
   },
   "file_extension": ".py",
   "mimetype": "text/x-python",
   "name": "python",
   "nbconvert_exporter": "python",
   "pygments_lexer": "ipython2",
   "version": "2.7.8"
  }
 },
 "nbformat": 4,
 "nbformat_minor": 0
}
