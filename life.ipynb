{
 "cells": [
  {
   "cell_type": "code",
   "execution_count": 97,
   "metadata": {
    "collapsed": false
   },
   "outputs": [
    {
     "name": "stdout",
     "output_type": "stream",
     "text": [
      "<type 'numpy.ndarray'>\n",
      "[   2.    3.    4.    5.    6.    7.    8.    9.   10.   11.   12.   13.\n",
      "   14.   15.   16.   17.   18.   19.   20.   21.   22.   23.   24.   25.\n",
      "   26.   27.   28.   29.   30.   31.   32.   33.   34.   35.   36.   37.\n",
      "   38.   39.   40.   41.   42.   43.   44.   45.   46.   47.   48.   49.\n",
      "   50.   51.   52.   53.   54.   55.   56.   57.   58.   59.   60.   61.\n",
      "   62.   63.   64.   65.   66.   67.   68.   69.   70.   71.   72.   73.\n",
      "   74.   75.   76.   77.   78.   79.   80.   81.   82.   83.   84.   85.\n",
      "   86.   87.   88.   89.   90.   91.   92.   93.   94.   95.   96.   97.\n",
      "   98.   99.  100.  101.  102.  103.  104.  105.  106.  107.  108.  109.\n",
      "  110.  111.  112.  113.  114.  115.  116.  117.  118.  119.  120.  121.\n",
      "  122.  123.  124.  125.  126.  127.  128.  129.  130.  131.  132.  133.\n",
      "  134.  135.  136.  137.  138.  139.  140.  141.  142.  143.  144.  145.\n",
      "  146.  147.  148.  149.  150.  151.]\n"
     ]
    },
    {
     "data": {
      "image/png": "[encoded data removed]",
      "text/plain": [
       "<matplotlib.figure.Figure at 0x115ea7810>"
      ]
     },
     "metadata": {},
     "output_type": "display_data"
    }
   ],
   "source": [
    "%matplotlib inline\n",
    "import numpy as np\n",
    "from matplotlib import pyplot as plt\n",
    "import random\n",
    "\n",
    "import scipy.stats as stats\n",
    "\n",
    "x = np.linspace(1, 150, 150)\n",
    "plt.figure(figsize=(12, 8))\n",
    "'''\n",
    "Highest precedence\n",
    "( )      (anything in brackets is done first)\n",
    "**     (exponentiation)\n",
    "-x, +x\n",
    "*, /, %, //\n",
    "+, -\n",
    "relational operators: <, >, <=, >=, !=, ==\n",
    "logical not\n",
    "logical and\n",
    "logical or\n",
    "Lowest precedence\n",
    "'''\n",
    "\n",
    "def survivalRate(x):\n",
    "    return np.e ** (-0.003*np.e ** ((x-25)/10.0))\n",
    "\n",
    "def thunderRate(x):\n",
    "    print type(x)\n",
    "    print x+1\n",
    "    DEATH_RATE = 1/80.0\n",
    "#     years = range(1, x+1)\n",
    "#     rates = [(1 - DEATH_RATE) ** (i - 1) * DEATH_RATE for i in years ]\n",
    "#     return reduce(lambda x,y: x + y, rates)\n",
    "\n",
    "\n",
    "realY = survivalRate(x)\n",
    "thunderY = thunderRate(x)\n",
    "plt.plot(x, realY)\n",
    "\n",
    "plt.show()"
   ]
  },
  {
   "cell_type": "code",
   "execution_count": 84,
   "metadata": {
    "collapsed": false
   },
   "outputs": [
    {
     "data": {
      "text/plain": [
       "0.9999573731305634"
      ]
     },
     "execution_count": 84,
     "metadata": {},
     "output_type": "execute_result"
    }
   ],
   "source": [
    "\n",
    "\n",
    "thunderRate(800)"
   ]
  },
  {
   "cell_type": "code",
   "execution_count": 70,
   "metadata": {
    "collapsed": false
   },
   "outputs": [
    {
     "data": {
      "text/plain": [
       "[1, 2, 3, 4, 5, 6, 7, 8, 9]"
      ]
     },
     "execution_count": 70,
     "metadata": {},
     "output_type": "execute_result"
    }
   ],
   "source": [
    "range(1,10)"
   ]
  }
 ],
 "metadata": {
  "kernelspec": {
   "display_name": "Python 2",
   "language": "python",
   "name": "python2"
  },
  "language_info": {
   "codemirror_mode": {
    "name": "ipython",
    "version": 2
   },
   "file_extension": ".py",
   "mimetype": "text/x-python",
   "name": "python",
   "nbconvert_exporter": "python",
   "pygments_lexer": "ipython2",
   "version": "2.7.8"
  }
 },
 "nbformat": 4,
 "nbformat_minor": 0
}
