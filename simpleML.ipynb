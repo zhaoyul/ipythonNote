{
 "cells": [
  {
   "cell_type": "code",
   "execution_count": 3,
   "metadata": {
    "collapsed": false,
    "scrolled": true
   },
   "outputs": [
    {
     "name": "stdout",
     "output_type": "stream",
     "text": [
      "Error:0.517208275438\n",
      "Error:0.0260702596931\n",
      "Error:0.0181554678526\n",
      "Error:0.0147234825688\n",
      "Error:0.0126993147791\n",
      "Error:0.0113272320733\n",
      "Error:0.0103192163347\n",
      "Error:0.00953860309535\n",
      "Error:0.00891115763147\n",
      "Error:0.00839264190064\n",
      "output after training:\n",
      "[[ 0.00966449]\n",
      " [ 0.00786506]\n",
      " [ 0.99358898]\n",
      " [ 0.99211957]]\n",
      "[[ 9.67299303]\n",
      " [-0.2078435 ]\n",
      " [-4.62963669]]\n"
     ]
    }
   ],
   "source": [
    "import numpy as np\n",
    "#sigmoid funciton\n",
    "def sigmoidfunc(x, deriv = False):\n",
    "    if (deriv == True):\n",
    "        return x*(1-x)\n",
    "    return 1/(1 + np.exp(-x))\n",
    "\n",
    "#input dataset\n",
    "x = np.array([[0, 0, 1],\n",
    "              [0, 1, 1],\n",
    "              [1, 0, 1],\n",
    "              [1, 1, 1]])\n",
    "#output dataset\n",
    "y = np.array([[0,0,1,1]]).T\n",
    "\n",
    "#seed random numbers \n",
    "np.random.seed(1)\n",
    "\n",
    "#init weights rnadomly\n",
    "weight0 = 2* np.random.random((3, 1)) - 1\n",
    "\n",
    "for iter in xrange(10000):\n",
    "    # forward propagation\n",
    "    layer0 = x\n",
    "    layer1 = sigmoidfunc(np.dot(layer0, weight0))\n",
    "    \n",
    "    # cost function\n",
    "    layer1_error = y - layer1\n",
    "    \n",
    "    if (iter% 1000) == 0:\n",
    "        print \"Error:\" + str(np.mean(np.abs(layer1_error)))\n",
    "    \n",
    "    #mmultiply how nuch we missed by the slop of the sigmoid at the values of l1\n",
    "    layer1_delta = layer1_error * sigmoidfunc(layer1, True)\n",
    "    \n",
    "    #update weights\n",
    "    weight0 += np.dot(layer0.T, layer1_delta)\n",
    "    \n",
    "print \"output after training:\"\n",
    "print layer1\n",
    "print weight0"
   ]
  },
  {
   "cell_type": "code",
   "execution_count": 5,
   "metadata": {
    "collapsed": false
   },
   "outputs": [
    {
     "name": "stdout",
     "output_type": "stream",
     "text": [
      "Error:0.49847083703\n",
      "Error:0.5\n",
      "Error:0.5\n",
      "Error:0.5\n",
      "Error:0.5\n",
      "Error:0.5\n",
      "Error:0.5\n",
      "Error:0.5\n",
      "Error:0.5\n",
      "Error:0.5\n",
      "output after training:\n",
      "[[ 0.5]\n",
      " [ 0.5]\n",
      " [ 0.5]\n",
      " [ 0.5]]\n",
      "[[  2.08166817e-16]\n",
      " [  2.22044605e-16]\n",
      " [ -3.05311332e-16]]\n"
     ]
    },
    {
     "data": {
      "image/png": "[encoded data removed]",
      "text/plain": [
       "<matplotlib.figure.Figure at 0x10ea1f450>"
      ]
     },
     "metadata": {},
     "output_type": "display_data"
    }
   ],
   "source": [
    "from matplotlib import pyplot as plt\n",
    "%matplotlib inline\n",
    "import numpy as np\n",
    "\n",
    "errors = []\n",
    "\n",
    "#sigmoid funciton\n",
    "def sigmoidfunc(x, deriv = False):\n",
    "    if (deriv == True):\n",
    "        return x*(1-x)\n",
    "    return 1/(1 + np.exp(-x))\n",
    "\n",
    "#input dataset\n",
    "x = np.array([[0, 0, 1],\n",
    "              [0, 1, 1],\n",
    "              [1, 0, 1],\n",
    "              [1, 1, 1]])\n",
    "#output dataset\n",
    "y = np.array([[0,0,1,1]]).T\n",
    "\n",
    "x = np.array([[0, 0, 1],\n",
    "              [1, 1, 1],\n",
    "              [1, 0, 1],\n",
    "              [0, 1, 1]])\n",
    "\n",
    "y = np.array([[0, 0, 1, 1]]).T\n",
    "\n",
    "np.random.seed(1)\n",
    "\n",
    "weight0 = 2* np.random.random((3, 1)) - 1\n",
    "\n",
    "for iter in xrange(10000):\n",
    "    layer0 = x\n",
    "    layer1 = sigmoidfunc(np.dot(layer0, weight0))\n",
    "    \n",
    "    layer1_error = y - layer1\n",
    "    \n",
    "    if (iter% 1000) == 0:\n",
    "        errors.append(np.mean(np.abs(layer1_error)))\n",
    "        print \"Error:\" + str(np.mean(np.abs(layer1_error)))\n",
    "    \n",
    "    layer1_delta = layer1_error * sigmoidfunc(layer1, True)\n",
    "    \n",
    "    weight0 += np.dot(layer0.T, layer1_delta)\n",
    "    \n",
    "print \"output after training:\"\n",
    "print layer1\n",
    "print weight0\n",
    "\n",
    "\n",
    "plt.plot(range(10), errors)\n",
    "axes = plt.gca()\n",
    "axes.set_xlim([0,10])\n",
    "axes.set_ylim([0,1])\n",
    "plt.show()"
   ]
  },
  {
   "cell_type": "code",
   "execution_count": null,
   "metadata": {
    "collapsed": true
   },
   "outputs": [],
   "source": []
  },
  {
   "cell_type": "code",
   "execution_count": 1,
   "metadata": {
    "collapsed": false
   },
   "outputs": [
    {
     "name": "stderr",
     "output_type": "stream",
     "text": [
      "/usr/local/lib/python2.7/site-packages/matplotlib/font_manager.py:273: UserWarning: Matplotlib is building the font cache using fc-list. This may take a moment.\n",
      "  warnings.warn('Matplotlib is building the font cache using fc-list. This may take a moment.')\n"
     ]
    },
    {
     "name": "stdout",
     "output_type": "stream",
     "text": [
      "Error:0.496410031903\n",
      "Error:0.00858452565325\n",
      "Error:0.00578945986251\n",
      "Error:0.00462917677677\n",
      "Error:0.00395876528027\n",
      "Error:0.00351012256786\n"
     ]
    },
    {
     "data": {
      "image/png": "[encoded data removed]",
      "text/plain": [
       "<matplotlib.figure.Figure at 0x10290a490>"
      ]
     },
     "metadata": {},
     "output_type": "display_data"
    }
   ],
   "source": [
    "from matplotlib import pyplot as plt\n",
    "%matplotlib inline\n",
    "import numpy as np\n",
    "errors = []\n",
    "\n",
    "def nonlin(x,deriv=False):\n",
    "    if(deriv==True):\n",
    "        return x*(1-x)\n",
    "\n",
    "    return 1/(1+np.exp(-x))\n",
    "    \n",
    "X = np.array([[0,0,1],\n",
    "            [0,1,1],\n",
    "            [1,0,1],\n",
    "            [1,1,1]])\n",
    "                \n",
    "y = np.array([[0],\n",
    "              [1],\n",
    "              [1],\n",
    "              [0]])\n",
    "\n",
    "np.random.seed(1)\n",
    "\n",
    "syn0 = 2*np.random.random((3,4)) - 1\n",
    "syn1 = 2*np.random.random((4,1)) - 1\n",
    "\n",
    "for j in xrange(60000):\n",
    "\n",
    "    l0 = X\n",
    "    l1 = nonlin(np.dot(l0,syn0))\n",
    "    l2 = nonlin(np.dot(l1,syn1))\n",
    "\n",
    "    # how much did we miss the target value?\n",
    "    l2_error = y - l2\n",
    "    \n",
    "    if (j% 10000) == 0:\n",
    "        print \"Error:\" + str(np.mean(np.abs(l2_error)))\n",
    "        errors.append(np.mean(np.abs(l2_error)))\n",
    "\n",
    "        \n",
    "    # in what direction is the target value?\n",
    "    # were we really sure? if so, don't change too much.\n",
    "    l2_delta = l2_error*nonlin(l2,deriv=True)\n",
    "\n",
    "    # how much did each l1 value contribute to the l2 error (according to the weights)?\n",
    "    l1_error = l2_delta.dot(syn1.T)\n",
    "    \n",
    "    # in what direction is the target l1?\n",
    "    # were we really sure? if so, don't change too much.\n",
    "    l1_delta = l1_error * nonlin(l1,deriv=True)\n",
    "\n",
    "    syn1 += l1.T.dot(l2_delta)\n",
    "    syn0 += l0.T.dot(l1_delta)\n",
    "\n",
    "plt.plot(range(6), errors)\n",
    "axes = plt.gca()\n",
    "axes.set_xlim([0,10])\n",
    "axes.set_ylim([0,1])\n",
    "plt.show()"
   ]
  },
  {
   "cell_type": "code",
   "execution_count": null,
   "metadata": {
    "collapsed": true
   },
   "outputs": [],
   "source": []
  },
  {
   "cell_type": "code",
   "execution_count": 1,
   "metadata": {
    "collapsed": false
   },
   "outputs": [
    {
     "ename": "SyntaxError",
     "evalue": "invalid syntax (<ipython-input-1-7ff41abcc457>, line 22)",
     "output_type": "error",
     "traceback": [
      "\u001b[0;36m  File \u001b[0;32m\"<ipython-input-1-7ff41abcc457>\"\u001b[0;36m, line \u001b[0;32m22\u001b[0m\n\u001b[0;31m    cont_img = closing.copy()\u001b[0m\n\u001b[0m           ^\u001b[0m\n\u001b[0;31mSyntaxError\u001b[0m\u001b[0;31m:\u001b[0m invalid syntax\n"
     ]
    }
   ],
   "source": [
    "import numpy as np\n",
    "import cv2\n",
    "\n",
    "def run_main():\n",
    "    capture = cv2.VideoCapture(0)\n",
    "    capture.set(cv2.cv.CV_CAP_PROP_FRAME_WIDTH, 1280)\n",
    "    capture.set(cv2.cv.CV_CAP_PROP_FRAME_HEIGHT, 720)\n",
    "\n",
    "    while(True):\n",
    "        ret, frame = capture.read()\n",
    "        roi = frame[0:500, 0:500]\n",
    "        gray = cv2.cvtColor(frame, cv2.COLOR_BGR2GRAY)\n",
    "\n",
    "        gray_blur = cv2.GaussianBlur(gray, (15, 15), 0)\n",
    "        thresh = cv2.adaptiveThreshold(gray_blur, 255, cv2.ADAPTIVE_THRESH_GAUSSIAN_C,\n",
    "            cv2.THRESH_BINARY_INV, 11, 1)\n",
    "\n",
    "        kernel = np.ones((3, 3), np.uint8)\n",
    "        closing = cv2.morphologyEx(thresh, cv2.MORPH_CLOSE,\n",
    "            kernel, iterations=4\n",
    "\n",
    "        cont_img = closing.copy()\n",
    "        contours, hierarchy = cv2.findContours(cont_img, cv2.RETR_EXTERNAL,\n",
    "            cv2.CHAIN_APPROX_SIMPLE)\n",
    "\n",
    "        for cnt in contours:\n",
    "            area = cv2.contourArea(cnt)\n",
    "            if area < 2000 or area > 4000:\n",
    "                continue\n",
    "\n",
    "            if len(cnt) < 5:\n",
    "                continue\n",
    "\n",
    "            ellipse = cv2.fitEllipse(cnt)\n",
    "            cv2.ellipse(frame, ellipse, (0,255,0), 2)\n",
    "\n",
    "        cv2.imshow(\"Closing\", closing)\n",
    "        cv2.imshow(\"Threshold\", thresh)\n",
    "        cv2.imshow('Circles', frame)\n",
    "\n",
    "        if cv2.waitKey(1) & 0xFF == ord('q'):\n",
    "            break\n",
    "\n",
    "    capture.release()\n",
    "    cv2.destroyAllWindows()\n",
    "\n",
    "if __name__ == \"__main__\":\n",
    "    run_main()\n"
   ]
  },
  {
   "cell_type": "code",
   "execution_count": null,
   "metadata": {
    "collapsed": true
   },
   "outputs": [],
   "source": []
  },
  {
   "cell_type": "code",
   "execution_count": null,
   "metadata": {
    "collapsed": true
   },
   "outputs": [],
   "source": []
  },
  {
   "cell_type": "code",
   "execution_count": null,
   "metadata": {
    "collapsed": true
   },
   "outputs": [],
   "source": []
  },
  {
   "cell_type": "code",
   "execution_count": null,
   "metadata": {
    "collapsed": true
   },
   "outputs": [],
   "source": []
  },
  {
   "cell_type": "code",
   "execution_count": 53,
   "metadata": {
    "collapsed": true
   },
   "outputs": [],
   "source": [
    "np.dot?"
   ]
  }
 ],
 "metadata": {
  "kernelspec": {
   "display_name": "Python 2",
   "language": "python",
   "name": "python2"
  },
  "language_info": {
   "codemirror_mode": {
    "name": "ipython",
    "version": 2
   },
   "file_extension": ".py",
   "mimetype": "text/x-python",
   "name": "python",
   "nbconvert_exporter": "python",
   "pygments_lexer": "ipython2",
   "version": "2.7.11"
  }
 },
 "nbformat": 4,
 "nbformat_minor": 0
}
